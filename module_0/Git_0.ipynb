{
 "cells": [
  {
   "cell_type": "code",
   "execution_count": 4,
   "metadata": {
    "scrolled": true
   },
   "outputs": [
    {
     "name": "stdout",
     "output_type": "stream",
     "text": [
      "Ваш алгоритм угадывает число в среднем за 5 попыток\n"
     ]
    }
   ],
   "source": [
    "import random\n",
    "import numpy as np\n",
    "number = np.random.randint(1,101)  #загадали число\n",
    "mylist = range(1,101)  #диапазон поиска\n",
    "start = 0\n",
    "stop = len(mylist)\n",
    "predict = np.random.randint(1,101) # вводим предполагаемое число\n",
    "count =  0   #счетчик попыток\n",
    "def game_core_v3(mylist, predict, start, stop):  #определяем функцию\n",
    "    while predict != number: #задаем условие\n",
    "        global count\n",
    "        count += 1  # плюсуем попытку\n",
    "        middle = (start + stop) // 2 #берем медиану, с которой будем сравнивать предполагаемое число\n",
    "        if predict == middle:\n",
    "            return count\n",
    "        elif predict < middle:  #если меньше или больше медианы, то берем новый интервал \n",
    "            return game_core_v3(mylist,predict, start, middle-1)\n",
    "        else:\n",
    "            return game_core_v3(mylist,predict, middle+1, stop)\n",
    "    return count #возвращаем количество попыток\n",
    "new_list = [] #создаем список для результатов функции\n",
    "for i in range(1,1001): #проверяем в интервале 1-1000\n",
    "    number = np.random.randint(1,101)\n",
    "    mylist = range(1,101)\n",
    "    start = 0\n",
    "    stop = len(mylist)\n",
    "    predict = np.random.randint(1,101)\n",
    "    count = 0\n",
    "    new_list.append(game_core_v3(mylist,predict, start, stop))\n",
    "avg = int(numpy.mean(new_list)) #среднее количество попыток\n",
    "print(f\"Ваш алгоритм угадывает число в среднем за {avg} попыток\")"
   ]
  }
 ],
 "metadata": {
  "kernelspec": {
   "display_name": "Python 3",
   "language": "python",
   "name": "python3"
  },
  "language_info": {
   "codemirror_mode": {
    "name": "ipython",
    "version": 3
   },
   "file_extension": ".py",
   "mimetype": "text/x-python",
   "name": "python",
   "nbconvert_exporter": "python",
   "pygments_lexer": "ipython3",
   "version": "3.8.3"
  }
 },
 "nbformat": 4,
 "nbformat_minor": 4
}
